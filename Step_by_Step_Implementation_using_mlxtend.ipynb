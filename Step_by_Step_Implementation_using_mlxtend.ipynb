{
  "nbformat": 4,
  "nbformat_minor": 0,
  "metadata": {
    "colab": {
      "provenance": []
    },
    "kernelspec": {
      "name": "python3",
      "display_name": "Python 3"
    },
    "language_info": {
      "name": "python"
    }
  },
  "cells": [
    {
      "cell_type": "markdown",
      "source": [
        "# 🔧 Install Dependencies"
      ],
      "metadata": {
        "id": "0wl4Bnf11SUC"
      }
    },
    {
      "cell_type": "code",
      "source": [
        "pip install mlxtend pandas"
      ],
      "metadata": {
        "colab": {
          "base_uri": "https://localhost:8080/"
        },
        "id": "fCcnoiOYu-U4",
        "outputId": "c851f1c9-6cb5-43ae-ea81-34134de05ef1"
      },
      "execution_count": 5,
      "outputs": [
        {
          "output_type": "stream",
          "name": "stdout",
          "text": [
            "Requirement already satisfied: mlxtend in /usr/local/lib/python3.11/dist-packages (0.23.4)\n",
            "Requirement already satisfied: pandas in /usr/local/lib/python3.11/dist-packages (2.2.2)\n",
            "Requirement already satisfied: scipy>=1.2.1 in /usr/local/lib/python3.11/dist-packages (from mlxtend) (1.15.2)\n",
            "Requirement already satisfied: numpy>=1.16.2 in /usr/local/lib/python3.11/dist-packages (from mlxtend) (2.0.2)\n",
            "Requirement already satisfied: scikit-learn>=1.3.1 in /usr/local/lib/python3.11/dist-packages (from mlxtend) (1.6.1)\n",
            "Requirement already satisfied: matplotlib>=3.0.0 in /usr/local/lib/python3.11/dist-packages (from mlxtend) (3.10.0)\n",
            "Requirement already satisfied: joblib>=0.13.2 in /usr/local/lib/python3.11/dist-packages (from mlxtend) (1.4.2)\n",
            "Requirement already satisfied: python-dateutil>=2.8.2 in /usr/local/lib/python3.11/dist-packages (from pandas) (2.9.0.post0)\n",
            "Requirement already satisfied: pytz>=2020.1 in /usr/local/lib/python3.11/dist-packages (from pandas) (2025.2)\n",
            "Requirement already satisfied: tzdata>=2022.7 in /usr/local/lib/python3.11/dist-packages (from pandas) (2025.2)\n",
            "Requirement already satisfied: contourpy>=1.0.1 in /usr/local/lib/python3.11/dist-packages (from matplotlib>=3.0.0->mlxtend) (1.3.2)\n",
            "Requirement already satisfied: cycler>=0.10 in /usr/local/lib/python3.11/dist-packages (from matplotlib>=3.0.0->mlxtend) (0.12.1)\n",
            "Requirement already satisfied: fonttools>=4.22.0 in /usr/local/lib/python3.11/dist-packages (from matplotlib>=3.0.0->mlxtend) (4.57.0)\n",
            "Requirement already satisfied: kiwisolver>=1.3.1 in /usr/local/lib/python3.11/dist-packages (from matplotlib>=3.0.0->mlxtend) (1.4.8)\n",
            "Requirement already satisfied: packaging>=20.0 in /usr/local/lib/python3.11/dist-packages (from matplotlib>=3.0.0->mlxtend) (24.2)\n",
            "Requirement already satisfied: pillow>=8 in /usr/local/lib/python3.11/dist-packages (from matplotlib>=3.0.0->mlxtend) (11.2.1)\n",
            "Requirement already satisfied: pyparsing>=2.3.1 in /usr/local/lib/python3.11/dist-packages (from matplotlib>=3.0.0->mlxtend) (3.2.3)\n",
            "Requirement already satisfied: six>=1.5 in /usr/local/lib/python3.11/dist-packages (from python-dateutil>=2.8.2->pandas) (1.17.0)\n",
            "Requirement already satisfied: threadpoolctl>=3.1.0 in /usr/local/lib/python3.11/dist-packages (from scikit-learn>=1.3.1->mlxtend) (3.6.0)\n"
          ]
        }
      ]
    },
    {
      "cell_type": "markdown",
      "source": [
        "# 🧾 Sample Dataset (Market Basket)"
      ],
      "metadata": {
        "id": "Qa2IJrx-1UXx"
      }
    },
    {
      "cell_type": "code",
      "source": [
        "import pandas as pd\n",
        "\n",
        "dataset = [\n",
        "    ['Milk', 'Bread', 'Butter'],\n",
        "    ['Bread', 'Butter'],\n",
        "    ['Milk', 'Bread'],\n",
        "    ['Milk', 'Butter'],\n",
        "    ['Bread', 'Butter', 'Jam']\n",
        "]\n",
        "\n",
        "# Convert to one-hot encoding\n",
        "from mlxtend.preprocessing import TransactionEncoder\n",
        "\n",
        "te = TransactionEncoder()\n",
        "te_data = te.fit(dataset).transform(dataset)\n",
        "df = pd.DataFrame(te_data, columns=te.columns_)\n",
        "print(df)\n"
      ],
      "metadata": {
        "colab": {
          "base_uri": "https://localhost:8080/"
        },
        "id": "_FqV9TZA00ay",
        "outputId": "a5af75ac-5042-4a6a-80ef-0ae28cd0127a"
      },
      "execution_count": 6,
      "outputs": [
        {
          "output_type": "stream",
          "name": "stdout",
          "text": [
            "   Bread  Butter    Jam   Milk\n",
            "0   True    True  False   True\n",
            "1   True    True  False  False\n",
            "2   True   False  False   True\n",
            "3  False    True  False   True\n",
            "4   True    True   True  False\n"
          ]
        }
      ]
    },
    {
      "cell_type": "markdown",
      "source": [
        "# 🧮 1. Using Apriori Algorithm"
      ],
      "metadata": {
        "id": "JWdZwZdv1XQB"
      }
    },
    {
      "cell_type": "code",
      "source": [
        "from mlxtend.frequent_patterns import apriori, association_rules\n",
        "\n",
        "# Step 1: Find frequent itemsets\n",
        "frequent_itemsets = apriori(df, min_support=0.4, use_colnames=True)\n",
        "\n",
        "# Step 2: Generate rules\n",
        "rules = association_rules(frequent_itemsets, metric=\"confidence\", min_threshold=0.6)\n",
        "\n",
        "print(\"\\nApriori Rules:\")\n",
        "print(rules[['antecedents', 'consequents', 'support', 'confidence', 'lift']])\n"
      ],
      "metadata": {
        "colab": {
          "base_uri": "https://localhost:8080/"
        },
        "id": "lbaQeqab03F_",
        "outputId": "a82199e8-a8da-45ca-f4ba-1ecba5360f03"
      },
      "execution_count": 7,
      "outputs": [
        {
          "output_type": "stream",
          "name": "stdout",
          "text": [
            "\n",
            "Apriori Rules:\n",
            "  antecedents consequents  support  confidence      lift\n",
            "0    (Butter)     (Bread)      0.6    0.750000  0.937500\n",
            "1     (Bread)    (Butter)      0.6    0.750000  0.937500\n",
            "2      (Milk)     (Bread)      0.4    0.666667  0.833333\n",
            "3      (Milk)    (Butter)      0.4    0.666667  0.833333\n"
          ]
        }
      ]
    },
    {
      "cell_type": "markdown",
      "source": [
        "# ⚡ 2. Using FP-Growth Algorithm"
      ],
      "metadata": {
        "id": "gh1ckriQ1bCJ"
      }
    },
    {
      "cell_type": "code",
      "source": [
        "from mlxtend.frequent_patterns import fpgrowth\n",
        "\n",
        "frequent_itemsets_fp = fpgrowth(df, min_support=0.4, use_colnames=True)\n",
        "\n",
        "rules_fp = association_rules(frequent_itemsets_fp, metric=\"confidence\", min_threshold=0.6)\n",
        "\n",
        "print(\"\\nFP-Growth Rules:\")\n",
        "print(rules_fp[['antecedents', 'consequents', 'support', 'confidence', 'lift']])\n"
      ],
      "metadata": {
        "colab": {
          "base_uri": "https://localhost:8080/"
        },
        "id": "sRTY8JEk09yo",
        "outputId": "8c37b3e8-b8bd-4859-a9da-e7126df65c92"
      },
      "execution_count": 8,
      "outputs": [
        {
          "output_type": "stream",
          "name": "stdout",
          "text": [
            "\n",
            "FP-Growth Rules:\n",
            "  antecedents consequents  support  confidence      lift\n",
            "0    (Butter)     (Bread)      0.6    0.750000  0.937500\n",
            "1     (Bread)    (Butter)      0.6    0.750000  0.937500\n",
            "2      (Milk)     (Bread)      0.4    0.666667  0.833333\n",
            "3      (Milk)    (Butter)      0.4    0.666667  0.833333\n"
          ]
        }
      ]
    },
    {
      "cell_type": "markdown",
      "source": [
        "# **Implement the Apriori algorithm in Python using a real-world dataset**\n",
        "\n",
        "Implement the Apriori algorithm in Python using a real-world dataset, you can utilize the Groceries dataset, which contains over 9,800 transactions from a German retailer. This dataset is widely used for market basket analysis and is available on Kaggle."
      ],
      "metadata": {
        "id": "C3WSeMij96rZ"
      }
    },
    {
      "cell_type": "code",
      "source": [
        "import pandas as pd\n",
        "from mlxtend.preprocessing import TransactionEncoder\n",
        "\n",
        "# Load the dataset\n",
        "df = pd.read_csv('Groceries_dataset.csv')\n",
        "\n",
        "# Group items by transaction (Member_number and Date)\n",
        "df['Transaction'] = df['Member_number'].astype(str) + '_' + df['Date']\n",
        "transactions = df.groupby('Transaction')['itemDescription'].apply(list).tolist()\n",
        "\n",
        "# Encode the transactions\n",
        "te = TransactionEncoder()\n",
        "te_ary = te.fit(transactions).transform(transactions)\n",
        "df_encoded = pd.DataFrame(te_ary, columns=te.columns_)\n"
      ],
      "metadata": {
        "id": "VtXT4bL58wVx"
      },
      "execution_count": 20,
      "outputs": []
    },
    {
      "cell_type": "code",
      "source": [
        "from mlxtend.frequent_patterns import apriori\n",
        "\n",
        "# Generate frequent itemsets with a minimum support of 0.01\n",
        "frequent_itemsets = apriori(df_encoded, min_support=0.01, use_colnames=True)\n",
        "print(frequent_itemsets.head())\n"
      ],
      "metadata": {
        "colab": {
          "base_uri": "https://localhost:8080/"
        },
        "id": "HuxYhNqA8y06",
        "outputId": "bee79da6-9307-47c6-d29e-73bb980260d3"
      },
      "execution_count": 21,
      "outputs": [
        {
          "output_type": "stream",
          "name": "stdout",
          "text": [
            "    support        itemsets\n",
            "0  0.021386      (UHT-milk)\n",
            "1  0.033950          (beef)\n",
            "2  0.021787       (berries)\n",
            "3  0.016574     (beverages)\n",
            "4  0.045312  (bottled beer)\n"
          ]
        }
      ]
    },
    {
      "cell_type": "code",
      "source": [
        "from mlxtend.frequent_patterns import association_rules\n",
        "\n",
        "# Generate association rules with a minimum confidence of 0.0\n",
        "rules = association_rules(frequent_itemsets, metric=\"confidence\", min_threshold=0.0)\n",
        "print(rules[['antecedents', 'consequents', 'support', 'confidence', 'lift']].head())\n"
      ],
      "metadata": {
        "colab": {
          "base_uri": "https://localhost:8080/"
        },
        "id": "k5Z92zVS9oDI",
        "outputId": "518fa3b1-8d73-4856-dd28-4198fbce56fc"
      },
      "execution_count": 25,
      "outputs": [
        {
          "output_type": "stream",
          "name": "stdout",
          "text": [
            "          antecedents         consequents   support  confidence      lift\n",
            "0  (other vegetables)        (rolls/buns)  0.010559    0.086481  0.786154\n",
            "1        (rolls/buns)  (other vegetables)  0.010559    0.095990  0.786154\n",
            "2  (other vegetables)        (whole milk)  0.014837    0.121511  0.769430\n",
            "3        (whole milk)  (other vegetables)  0.014837    0.093948  0.769430\n",
            "4        (whole milk)        (rolls/buns)  0.013968    0.088447  0.804028\n"
          ]
        }
      ]
    },
    {
      "cell_type": "code",
      "source": [],
      "metadata": {
        "id": "Enz8G8vX9sxR"
      },
      "execution_count": null,
      "outputs": []
    }
  ]
}